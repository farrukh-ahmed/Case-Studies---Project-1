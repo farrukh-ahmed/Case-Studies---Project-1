{
 "cells": [
  {
   "attachments": {},
   "cell_type": "markdown",
   "metadata": {},
   "source": [
    "Case Studies\n",
    "\n",
    "Project: 1\n",
    "\n",
    "Group: 3\n",
    "\n",
    "Group Members:\n",
    " - Muhammad Raafey Tariq (231806)\n",
    " - Farrukh Ahmed (230614)\n",
    " - Amirreza Khamehchin Khiabani (230891)\n",
    " - Aymane Hachcham (236392)\n"
   ]
  },
  {
   "cell_type": "markdown",
   "metadata": {},
   "source": [
    "Requirements:\n",
    " - numpy==1.24.2\n",
    " - matplotlib==3.7.1\n",
    " - seaborn==0.12.2\n",
    " - pandas==2.0.0\n",
    " - openpyxl==3.1.2\n",
    "\n",
    "Installation Commands (One-time only)\n",
    " - pip install pandas==2.0.0\n",
    " - pip install numpy==1.24.2\n",
    " - pip install seaborn==0.12.2\n",
    " - pip install matplotlib==3.7.1\n",
    " - pip install openpyxl==3.1.2"
   ]
  },
  {
   "cell_type": "markdown",
   "metadata": {},
   "source": [
    "Imports and Libraries"
   ]
  },
  {
   "cell_type": "code",
   "execution_count": 150,
   "metadata": {},
   "outputs": [],
   "source": [
    "import pandas as pd\n",
    "import numpy as np\n",
    "import itertools\n",
    "import pprint\n",
    "\n",
    "# used for the graphs\n",
    "import seaborn as sns\n",
    "import os\n",
    "sns.set(font_scale = 1.2)\n",
    "\n",
    "# used for plotting\n",
    "from matplotlib import pyplot as plt\n",
    "from datetime import datetime\n",
    "import matplotlib\n",
    "\n",
    "# setting font to 'Times New Roman'\n",
    "matplotlib.rcParams[\"font.family\"] = \"Times New Roman\"\n",
    "matplotlib.rcParams.update({'font.size': 16})\n",
    "%matplotlib inline"
   ]
  },
  {
   "cell_type": "markdown",
   "metadata": {},
   "source": [
    "Global Variables and Constants"
   ]
  },
  {
   "cell_type": "markdown",
   "metadata": {},
   "source": [
    "Importing Data"
   ]
  },
  {
   "cell_type": "code",
   "execution_count": 151,
   "metadata": {},
   "outputs": [
    {
     "name": "stderr",
     "output_type": "stream",
     "text": [
      "c:\\Users\\Raafe\\AppData\\Local\\Programs\\Python\\Python38\\lib\\site-packages\\openpyxl\\worksheet\\header_footer.py:48: UserWarning: Cannot parse header or footer so it will be ignored\n",
      "  warn(\"\"\"Cannot parse header or footer so it will be ignored\"\"\")\n"
     ]
    }
   ],
   "source": [
    "file_path = \"../styrian_health_data.xlsx\"\n",
    "sheet_name = \"Sheet 1\"\n",
    "data_df = pd.read_excel(file_path, sheet_name=sheet_name)"
   ]
  },
  {
   "cell_type": "markdown",
   "metadata": {},
   "source": [
    "Reformating Columns to Correct Data Types"
   ]
  },
  {
   "cell_type": "code",
   "execution_count": 152,
   "metadata": {},
   "outputs": [],
   "source": [
    "data_df.postleitzahl = data_df.postleitzahl.astype('Int64')\n",
    "data_df.geburtsjahr = data_df.geburtsjahr.astype('Int64')\n",
    "data_df.befinden = data_df.befinden.astype('Int64')\n",
    "data_df.messwert_bp_sys = pd.to_numeric(data_df.messwert_bp_sys)\n",
    "data_df.messwert_bp_dia = pd.to_numeric(data_df.messwert_bp_dia)\n",
    "data_df.schaetzwert_bp_sys = pd.to_numeric(data_df.schaetzwert_bp_sys)\n",
    "data_df.schaetzwert_by_dia = pd.to_numeric(data_df.schaetzwert_by_dia)\n",
    "\n",
    "# adding variable for age\n",
    "age =  data_df[\"zeit\"].dt.year - pd.to_datetime(data_df['geburtsjahr'], format='%Y').dt.year\n",
    "data_df[\"age\"] = age.astype(\"Int64\")\n",
    "\n",
    "data_df[\"age_group\"] = pd.cut(data_df.age, bins=[0,12,19,65,130],labels=['children', 'teenager', 'adult','65 over'])"
   ]
  }
 ],
 "metadata": {
  "kernelspec": {
   "display_name": "Python 3",
   "language": "python",
   "name": "python3"
  },
  "language_info": {
   "codemirror_mode": {
    "name": "ipython",
    "version": 3
   },
   "file_extension": ".py",
   "mimetype": "text/x-python",
   "name": "python",
   "nbconvert_exporter": "python",
   "pygments_lexer": "ipython3",
   "version": "3.8.5"
  }
 },
 "nbformat": 4,
 "nbformat_minor": 2
}
