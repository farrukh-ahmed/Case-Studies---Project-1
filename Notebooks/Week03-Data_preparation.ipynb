{
 "cells": [
  {
   "attachments": {},
   "cell_type": "markdown",
   "metadata": {},
   "source": [
    "Case Studies\n",
    "\n",
    "Project: 1\n",
    "\n",
    "Group: 3\n",
    "\n",
    "Group Members:\n",
    " - Muhammad Raafey Tariq (231806)\n",
    " - Farrukh Ahmed (230614)\n",
    " - Amirreza Khamehchin Khiabani (230891)\n",
    " - Aymane Hachcham (236392)\n"
   ]
  },
  {
   "cell_type": "markdown",
   "metadata": {},
   "source": [
    "Requirements:\n",
    " - numpy==1.24.2\n",
    " - matplotlib==3.7.1\n",
    " - seaborn==0.12.2\n",
    " - pandas==2.0.0\n",
    " - openpyxl==3.1.2\n",
    "\n",
    "Installation Commands (One-time only)\n",
    " - pip install pandas==2.0.0\n",
    " - pip install numpy==1.24.2\n",
    " - pip install seaborn==0.12.2\n",
    " - pip install matplotlib==3.7.1\n",
    " - pip install openpyxl==3.1.2"
   ]
  },
  {
   "cell_type": "markdown",
   "metadata": {},
   "source": [
    "Imports and Libraries"
   ]
  },
  {
   "cell_type": "code",
   "execution_count": 276,
   "metadata": {},
   "outputs": [],
   "source": [
    "import pandas as pd\n",
    "import numpy as np\n",
    "import itertools\n",
    "import pprint\n",
    "\n",
    "# used for the graphs\n",
    "import seaborn as sns\n",
    "import os\n",
    "sns.set(font_scale = 1.2)\n",
    "\n",
    "# used for plotting\n",
    "from matplotlib import pyplot as plt\n",
    "from datetime import datetime\n",
    "import matplotlib\n",
    "\n",
    "# setting font to 'Times New Roman'\n",
    "matplotlib.rcParams[\"font.family\"] = \"Times New Roman\"\n",
    "matplotlib.rcParams.update({'font.size': 16})\n",
    "%matplotlib inline"
   ]
  },
  {
   "cell_type": "markdown",
   "metadata": {},
   "source": [
    "Global Variables and Constants"
   ]
  },
  {
   "cell_type": "markdown",
   "metadata": {},
   "source": [
    "Importing Data"
   ]
  },
  {
   "cell_type": "code",
   "execution_count": 277,
   "metadata": {},
   "outputs": [
    {
     "name": "stderr",
     "output_type": "stream",
     "text": [
      "c:\\Users\\Raafe\\AppData\\Local\\Programs\\Python\\Python38\\lib\\site-packages\\openpyxl\\worksheet\\header_footer.py:48: UserWarning: Cannot parse header or footer so it will be ignored\n",
      "  warn(\"\"\"Cannot parse header or footer so it will be ignored\"\"\")\n"
     ]
    }
   ],
   "source": [
    "file_path = \"../styrian_health_data.xlsx\"\n",
    "sheet_name = \"Sheet 1\"\n",
    "data_df = pd.read_excel(file_path, sheet_name=sheet_name)"
   ]
  },
  {
   "attachments": {},
   "cell_type": "markdown",
   "metadata": {},
   "source": [
    "Reformating Columns to Correct Data Types, dropping nans and creating new variables"
   ]
  },
  {
   "cell_type": "code",
   "execution_count": 278,
   "metadata": {},
   "outputs": [],
   "source": [
    "# fixing dtypes\n",
    "data_df.postleitzahl = data_df.postleitzahl.astype('str')\n",
    "data_df.geburtsjahr = data_df.geburtsjahr.astype('Int64')\n",
    "# data_df.befinden = data_df.befinden.astype('Int64')\n",
    "data_df.messwert_bp_sys = pd.to_numeric(data_df.messwert_bp_sys)\n",
    "data_df.messwert_bp_dia = pd.to_numeric(data_df.messwert_bp_dia)\n",
    "data_df.schaetzwert_bp_sys = pd.to_numeric(data_df.schaetzwert_bp_sys)\n",
    "data_df.schaetzwert_by_dia = pd.to_numeric(data_df.schaetzwert_by_dia)\n",
    "\n",
    "# adding variable for is_local\n",
    "mask = data_df.gemeinde.isna() & data_df.bezirk.isna() & data_df.bundesland.isna()\n",
    "data_df[\"is_local_resident\"] = True\n",
    "data_df.loc[mask, \"is_local_resident\"] = False\n",
    "\n",
    "# adding variable for age\n",
    "age =  data_df[\"zeit\"].dt.year - pd.to_datetime(data_df['geburtsjahr'], format='%Y').dt.year\n",
    "data_df[\"age\"] = age.astype(\"Int64\")\n",
    "\n",
    "# adding variable for age group\n",
    "data_df[\"age_group\"] = pd.cut(data_df.age, bins=[0,12,19,65,130],labels=['children', 'teenager', 'adult','65 over'])\n",
    "data_df[\"age_group\"] = data_df.age_group.astype(str)\n",
    "\n",
    "#replacing nans for variables\n",
    "\n",
    "data_df.loc[data_df.geschlecht.isna() == True, 'raucher'] = \"unknown\"\n",
    "data_df.loc[data_df.geschlecht.isna() == True, 'blutzucker_bekannt'] = \"unknown\"\n",
    "data_df.loc[data_df.geschlecht.isna() == True, 'cholesterin_bekannt'] = \"unknown\"\n",
    "data_df.loc[data_df.geschlecht.isna() == True, 'in_behandlung'] = \"unknown\"\n",
    "data_df.loc[data_df.geschlecht.isna() == True, 'befinden'] = \"unknown\"\n",
    "data_df.loc[data_df.age_group == \"nan\", 'age_group'] = \"unknown\"\n",
    "\n",
    "data_df.loc[mask, 'gemeinde'] = \"not applicable\"\n",
    "data_df.loc[mask, 'bezirk'] = \"not applicable\"\n",
    "data_df.loc[mask, 'bundesland'] = \"not applicable\"\n",
    "data_df.loc[mask, 'postleitzahl'] = \"not applicable\"\n",
    "data_df.loc[data_df.postleitzahl == \"nan\", 'postleitzahl'] = \"unknown\"\n",
    "\n",
    "# creating variables for missing values in bp\n",
    "\n",
    "data_df[\"is_missing_schaetzwert_bp_sys\"] = False\n",
    "data_df.loc[data_df.schaetzwert_bp_sys.isna() == True, \"is_missing_schaetzwert_bp_sys\"] = True\n",
    "data_df[\"is_missing_schaetzwert_by_dia\"] = False\n",
    "data_df.loc[data_df.schaetzwert_by_dia.isna() == True, \"is_missing_schaetzwert_by_dia\"] = True\n",
    "\n",
    "# removing useless variables\n",
    "data_df.drop(data_df[data_df.age > 100].index, inplace=True)\n",
    "data_df.drop(data_df[data_df.age < 15].index, inplace=True)\n",
    "\n",
    "data_df.loc[data_df.geschlecht.isna() == True, 'geschlecht'] = \"unknown\""
   ]
  },
  {
   "cell_type": "code",
   "execution_count": 279,
   "metadata": {},
   "outputs": [
    {
     "data": {
      "text/plain": [
       "id                                0\n",
       "zeit                              0\n",
       "terminal                          0\n",
       "postleitzahl                      0\n",
       "gemeinde                          0\n",
       "bezirk                            0\n",
       "bundesland                        0\n",
       "befinden                          0\n",
       "geburtsjahr                      23\n",
       "geschlecht                        0\n",
       "raucher                           0\n",
       "blutzucker_bekannt                0\n",
       "cholesterin_bekannt               0\n",
       "in_behandlung                     0\n",
       "schaetzwert_bp_sys               27\n",
       "schaetzwert_by_dia               35\n",
       "messwert_bp_sys                   0\n",
       "messwert_bp_dia                   0\n",
       "is_local_resident                 0\n",
       "age                              23\n",
       "age_group                         0\n",
       "is_missing_schaetzwert_bp_sys     0\n",
       "is_missing_schaetzwert_by_dia     0\n",
       "dtype: int64"
      ]
     },
     "execution_count": 279,
     "metadata": {},
     "output_type": "execute_result"
    }
   ],
   "source": [
    "# Counts for missing values per column\n",
    "data_df.isna().sum()"
   ]
  },
  {
   "cell_type": "code",
   "execution_count": 280,
   "metadata": {},
   "outputs": [
    {
     "data": {
      "text/plain": [
       "14887"
      ]
     },
     "execution_count": 280,
     "metadata": {},
     "output_type": "execute_result"
    }
   ],
   "source": [
    "len(data_df)"
   ]
  }
 ],
 "metadata": {
  "kernelspec": {
   "display_name": "Python 3",
   "language": "python",
   "name": "python3"
  },
  "language_info": {
   "codemirror_mode": {
    "name": "ipython",
    "version": 3
   },
   "file_extension": ".py",
   "mimetype": "text/x-python",
   "name": "python",
   "nbconvert_exporter": "python",
   "pygments_lexer": "ipython3",
   "version": "3.8.5"
  }
 },
 "nbformat": 4,
 "nbformat_minor": 2
}
