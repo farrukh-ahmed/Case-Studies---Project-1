{
 "cells": [
  {
   "attachments": {},
   "cell_type": "markdown",
   "metadata": {},
   "source": [
    "Case Studies\n",
    "\n",
    "Project: 1\n",
    "\n",
    "Group: 3\n",
    "\n",
    "Group Members:\n",
    " - Muhammad Raafey Tariq (231806)\n",
    " - Farrukh Ahmed (230614)\n",
    " - Amirreza Khamehchin Khiabani (230891)\n"
   ]
  },
  {
   "attachments": {},
   "cell_type": "markdown",
   "metadata": {},
   "source": [
    "Requirements:\n",
    " - numpy==1.24.2\n",
    " - matplotlib==3.7.1\n",
    " - seaborn==0.12.2\n",
    " - pandas==2.0.0\n",
    " - openpyxl==3.1.2\n",
    "\n",
    "Installation Commands (One-time only)\n",
    " - pip install pandas==2.0.0\n",
    " - pip install numpy==1.24.2\n",
    " - pip install seaborn==0.12.2\n",
    " - pip install matplotlib==3.7.1\n",
    " - pip install openpyxl==3.1.2"
   ]
  },
  {
   "attachments": {},
   "cell_type": "markdown",
   "metadata": {},
   "source": [
    "Imports and Libraries"
   ]
  },
  {
   "cell_type": "code",
   "execution_count": 2,
   "metadata": {},
   "outputs": [],
   "source": [
    "import pandas as pd\n",
    "import numpy as np\n",
    "import itertools\n",
    "import pprint\n",
    "\n",
    "# used for the graphs\n",
    "import seaborn as sns\n",
    "import os\n",
    "sns.set(font_scale = 1.2)\n",
    "\n",
    "# used for plotting\n",
    "from matplotlib import pyplot as plt\n",
    "import matplotlib\n",
    "\n",
    "# setting font to 'Times New Roman'\n",
    "matplotlib.rcParams[\"font.family\"] = \"Times New Roman\"\n",
    "matplotlib.rcParams.update({'font.size': 16})\n",
    "%matplotlib inline"
   ]
  },
  {
   "attachments": {},
   "cell_type": "markdown",
   "metadata": {},
   "source": [
    "Global Variables and Constants"
   ]
  },
  {
   "cell_type": "code",
   "execution_count": 3,
   "metadata": {},
   "outputs": [],
   "source": [
    "PLOT_DIR_NAME = \"Project1-descriptive-data-analysis-plots\"\n",
    "if not os.path.isdir(PLOT_DIR_NAME):\n",
    "    os.mkdir(PLOT_DIR_NAME)"
   ]
  },
  {
   "attachments": {},
   "cell_type": "markdown",
   "metadata": {},
   "source": [
    "Importing Data"
   ]
  },
  {
   "cell_type": "code",
   "execution_count": 4,
   "metadata": {},
   "outputs": [
    {
     "name": "stderr",
     "output_type": "stream",
     "text": [
      "c:\\Users\\Amirreza\\anaconda3\\lib\\site-packages\\openpyxl\\worksheet\\header_footer.py:48: UserWarning: Cannot parse header or footer so it will be ignored\n",
      "  warn(\"\"\"Cannot parse header or footer so it will be ignored\"\"\")\n"
     ]
    }
   ],
   "source": [
    "file_path = \"../styrian_health_data.xlsx\"\n",
    "sheet_name = \"Sheet 1\"\n",
    "data_df = pd.read_excel(file_path, sheet_name=sheet_name)"
   ]
  },
  {
   "cell_type": "markdown",
   "metadata": {},
   "source": [
    "Reformating Columns to Correct Data Types"
   ]
  },
  {
   "cell_type": "code",
   "execution_count": 54,
   "metadata": {},
   "outputs": [],
   "source": [
    "# data_df.postleitzahl = data_df.postleitzahl.astype('Int64')\n",
    "# data_df.geburtsjahr = data_df.geburtsjahr.astype('Int64')\n",
    "# data_df.befinden = data_df.befinden.astype('Int64')\n",
    "# data_df.messwert_bp_sys = data_df.messwert_bp_sys.astype('Int64')\n",
    "# data_df.messwert_bp_dia = data_df.messwert_bp_dia.astype(\"Float64\")"
   ]
  },
  {
   "cell_type": "code",
   "execution_count": 5,
   "metadata": {},
   "outputs": [],
   "source": [
    "data_df.postleitzahl = data_df.postleitzahl.astype('Int64')\n",
    "data_df.geburtsjahr = data_df.geburtsjahr.astype('Int64')\n",
    "data_df.befinden = data_df.befinden.astype('Int64')\n",
    "data_df.messwert_bp_sys = pd.to_numeric(data_df.messwert_bp_sys)\n",
    "data_df.messwert_bp_dia = pd.to_numeric(data_df.messwert_bp_dia)\n",
    "data_df.schaetzwert_bp_sys = pd.to_numeric(data_df.schaetzwert_bp_sys)\n",
    "data_df.schaetzwert_by_dia = pd.to_numeric(data_df.schaetzwert_by_dia)"
   ]
  },
  {
   "cell_type": "code",
   "execution_count": 6,
   "metadata": {},
   "outputs": [
    {
     "data": {
      "text/html": [
       "<div>\n",
       "<style scoped>\n",
       "    .dataframe tbody tr th:only-of-type {\n",
       "        vertical-align: middle;\n",
       "    }\n",
       "\n",
       "    .dataframe tbody tr th {\n",
       "        vertical-align: top;\n",
       "    }\n",
       "\n",
       "    .dataframe thead th {\n",
       "        text-align: right;\n",
       "    }\n",
       "</style>\n",
       "<table border=\"1\" class=\"dataframe\">\n",
       "  <thead>\n",
       "    <tr style=\"text-align: right;\">\n",
       "      <th></th>\n",
       "      <th>id</th>\n",
       "      <th>zeit</th>\n",
       "      <th>terminal</th>\n",
       "      <th>postleitzahl</th>\n",
       "      <th>gemeinde</th>\n",
       "      <th>bezirk</th>\n",
       "      <th>bundesland</th>\n",
       "      <th>befinden</th>\n",
       "      <th>geburtsjahr</th>\n",
       "      <th>geschlecht</th>\n",
       "      <th>raucher</th>\n",
       "      <th>blutzucker_bekannt</th>\n",
       "      <th>cholesterin_bekannt</th>\n",
       "      <th>in_behandlung</th>\n",
       "      <th>schaetzwert_bp_sys</th>\n",
       "      <th>schaetzwert_by_dia</th>\n",
       "      <th>messwert_bp_sys</th>\n",
       "      <th>messwert_bp_dia</th>\n",
       "    </tr>\n",
       "  </thead>\n",
       "  <tbody>\n",
       "    <tr>\n",
       "      <th>0</th>\n",
       "      <td>11519</td>\n",
       "      <td>2006-04-27 10:49:12</td>\n",
       "      <td>2</td>\n",
       "      <td>8054</td>\n",
       "      <td>Seiersberg</td>\n",
       "      <td>Graz-Umgebung</td>\n",
       "      <td>Steiermark</td>\n",
       "      <td>1</td>\n",
       "      <td>1967</td>\n",
       "      <td>m</td>\n",
       "      <td>False</td>\n",
       "      <td>True</td>\n",
       "      <td>False</td>\n",
       "      <td>False</td>\n",
       "      <td>142.0</td>\n",
       "      <td>89.0</td>\n",
       "      <td>179</td>\n",
       "      <td>111</td>\n",
       "    </tr>\n",
       "    <tr>\n",
       "      <th>1</th>\n",
       "      <td>11520</td>\n",
       "      <td>2006-04-27 11:10:46</td>\n",
       "      <td>2</td>\n",
       "      <td>8403</td>\n",
       "      <td>Lebring-Sankt Margarethen</td>\n",
       "      <td>Leibnitz</td>\n",
       "      <td>Steiermark</td>\n",
       "      <td>1</td>\n",
       "      <td>1968</td>\n",
       "      <td>m</td>\n",
       "      <td>False</td>\n",
       "      <td>False</td>\n",
       "      <td>False</td>\n",
       "      <td>False</td>\n",
       "      <td>140.0</td>\n",
       "      <td>70.0</td>\n",
       "      <td>109</td>\n",
       "      <td>80</td>\n",
       "    </tr>\n",
       "    <tr>\n",
       "      <th>2</th>\n",
       "      <td>11521</td>\n",
       "      <td>2006-04-27 11:21:09</td>\n",
       "      <td>2</td>\n",
       "      <td>8020</td>\n",
       "      <td>Graz - Gries</td>\n",
       "      <td>Graz(Stadt)</td>\n",
       "      <td>Steiermark</td>\n",
       "      <td>1</td>\n",
       "      <td>1973</td>\n",
       "      <td>m</td>\n",
       "      <td>True</td>\n",
       "      <td>False</td>\n",
       "      <td>False</td>\n",
       "      <td>False</td>\n",
       "      <td>130.0</td>\n",
       "      <td>75.0</td>\n",
       "      <td>128</td>\n",
       "      <td>108</td>\n",
       "    </tr>\n",
       "    <tr>\n",
       "      <th>3</th>\n",
       "      <td>11522</td>\n",
       "      <td>2006-04-27 11:32:59</td>\n",
       "      <td>1</td>\n",
       "      <td>8044</td>\n",
       "      <td>Graz - Mariatrost</td>\n",
       "      <td>Graz(Stadt)</td>\n",
       "      <td>Steiermark</td>\n",
       "      <td>1</td>\n",
       "      <td>1961</td>\n",
       "      <td>m</td>\n",
       "      <td>False</td>\n",
       "      <td>False</td>\n",
       "      <td>False</td>\n",
       "      <td>False</td>\n",
       "      <td>100.0</td>\n",
       "      <td>80.0</td>\n",
       "      <td>130</td>\n",
       "      <td>90</td>\n",
       "    </tr>\n",
       "    <tr>\n",
       "      <th>4</th>\n",
       "      <td>11524</td>\n",
       "      <td>2006-04-27 12:01:48</td>\n",
       "      <td>2</td>\n",
       "      <td>8010</td>\n",
       "      <td>Graz - Geidorf</td>\n",
       "      <td>Graz(Stadt)</td>\n",
       "      <td>Steiermark</td>\n",
       "      <td>2</td>\n",
       "      <td>1978</td>\n",
       "      <td>f</td>\n",
       "      <td>False</td>\n",
       "      <td>False</td>\n",
       "      <td>False</td>\n",
       "      <td>False</td>\n",
       "      <td>140.0</td>\n",
       "      <td>70.0</td>\n",
       "      <td>144</td>\n",
       "      <td>103</td>\n",
       "    </tr>\n",
       "  </tbody>\n",
       "</table>\n",
       "</div>"
      ],
      "text/plain": [
       "      id                zeit  terminal  postleitzahl  \\\n",
       "0  11519 2006-04-27 10:49:12         2          8054   \n",
       "1  11520 2006-04-27 11:10:46         2          8403   \n",
       "2  11521 2006-04-27 11:21:09         2          8020   \n",
       "3  11522 2006-04-27 11:32:59         1          8044   \n",
       "4  11524 2006-04-27 12:01:48         2          8010   \n",
       "\n",
       "                    gemeinde         bezirk  bundesland  befinden  \\\n",
       "0                 Seiersberg  Graz-Umgebung  Steiermark         1   \n",
       "1  Lebring-Sankt Margarethen       Leibnitz  Steiermark         1   \n",
       "2               Graz - Gries    Graz(Stadt)  Steiermark         1   \n",
       "3          Graz - Mariatrost    Graz(Stadt)  Steiermark         1   \n",
       "4             Graz - Geidorf    Graz(Stadt)  Steiermark         2   \n",
       "\n",
       "   geburtsjahr geschlecht  raucher  blutzucker_bekannt  cholesterin_bekannt  \\\n",
       "0         1967          m    False                True                False   \n",
       "1         1968          m    False               False                False   \n",
       "2         1973          m     True               False                False   \n",
       "3         1961          m    False               False                False   \n",
       "4         1978          f    False               False                False   \n",
       "\n",
       "   in_behandlung  schaetzwert_bp_sys  schaetzwert_by_dia  messwert_bp_sys  \\\n",
       "0          False               142.0                89.0              179   \n",
       "1          False               140.0                70.0              109   \n",
       "2          False               130.0                75.0              128   \n",
       "3          False               100.0                80.0              130   \n",
       "4          False               140.0                70.0              144   \n",
       "\n",
       "   messwert_bp_dia  \n",
       "0              111  \n",
       "1               80  \n",
       "2              108  \n",
       "3               90  \n",
       "4              103  "
      ]
     },
     "execution_count": 6,
     "metadata": {},
     "output_type": "execute_result"
    }
   ],
   "source": [
    "data_df.head()"
   ]
  },
  {
   "cell_type": "code",
   "execution_count": 7,
   "metadata": {},
   "outputs": [
    {
     "name": "stdout",
     "output_type": "stream",
     "text": [
      "Number of datapoints:  16386\n",
      "Number of variables:  18\n"
     ]
    },
    {
     "data": {
      "text/plain": [
       "Index(['id', 'zeit', 'terminal', 'postleitzahl', 'gemeinde', 'bezirk',\n",
       "       'bundesland', 'befinden', 'geburtsjahr', 'geschlecht', 'raucher',\n",
       "       'blutzucker_bekannt', 'cholesterin_bekannt', 'in_behandlung',\n",
       "       'schaetzwert_bp_sys', 'schaetzwert_by_dia', 'messwert_bp_sys',\n",
       "       'messwert_bp_dia'],\n",
       "      dtype='object')"
      ]
     },
     "execution_count": 7,
     "metadata": {},
     "output_type": "execute_result"
    }
   ],
   "source": [
    "print(\"Number of datapoints: \", len(data_df))\n",
    "print(\"Number of variables: \", len(data_df.columns))\n",
    "data_df.columns"
   ]
  },
  {
   "attachments": {},
   "cell_type": "markdown",
   "metadata": {},
   "source": [
    "Missing Values"
   ]
  },
  {
   "cell_type": "code",
   "execution_count": 8,
   "metadata": {},
   "outputs": [
    {
     "data": {
      "text/plain": [
       "id                       0\n",
       "zeit                     0\n",
       "terminal                 0\n",
       "postleitzahl           334\n",
       "gemeinde               331\n",
       "bezirk                 331\n",
       "bundesland             331\n",
       "befinden                23\n",
       "geburtsjahr             23\n",
       "geschlecht              23\n",
       "raucher                  0\n",
       "blutzucker_bekannt       0\n",
       "cholesterin_bekannt      0\n",
       "in_behandlung            0\n",
       "schaetzwert_bp_sys      45\n",
       "schaetzwert_by_dia      56\n",
       "messwert_bp_sys          0\n",
       "messwert_bp_dia          0\n",
       "dtype: int64"
      ]
     },
     "execution_count": 8,
     "metadata": {},
     "output_type": "execute_result"
    }
   ],
   "source": [
    "# Counts for missing values per column\n",
    "data_df.isna().sum()"
   ]
  },
  {
   "cell_type": "code",
   "execution_count": 9,
   "metadata": {},
   "outputs": [
    {
     "data": {
      "image/png": "[encoded data removed]",
      "text/plain": [
       "<Figure size 432x288 with 1 Axes>"
      ]
     },
     "metadata": {
      "needs_background": "light"
     },
     "output_type": "display_data"
    }
   ],
   "source": [
    "# representation as a bar plot\n",
    "plot = data_df.isna().sum().sort_values().reset_index(name=\"Number of missing values\").plot.bar(x=\"index\", y=\"Number of missing values\", rot=90)\n",
    "plot.figure.savefig(os.path.join(PLOT_DIR_NAME, \"missing_values_by_col.pdf\"), dpi=180, bbox_inches='tight')"
   ]
  },
  {
   "cell_type": "code",
   "execution_count": 10,
   "metadata": {},
   "outputs": [
    {
     "data": {
      "text/plain": [
       "(382, 18)"
      ]
     },
     "execution_count": 10,
     "metadata": {},
     "output_type": "execute_result"
    }
   ],
   "source": [
    "# identifying all rows in total with missing values\n",
    "\n",
    "rows_with_nan = data_df[data_df.isna().any(axis=1)]\n",
    "rows_with_nan.shape"
   ]
  },
  {
   "cell_type": "code",
   "execution_count": 15,
   "metadata": {},
   "outputs": [
    {
     "data": {
      "text/plain": [
       "(16004, 18)"
      ]
     },
     "execution_count": 15,
     "metadata": {},
     "output_type": "execute_result"
    }
   ],
   "source": [
    "# dropping nan values\n",
    "data_df_wo_nan = data_df.dropna()\n",
    "data_df_wo_nan.shape"
   ]
  },
  {
   "attachments": {},
   "cell_type": "markdown",
   "metadata": {},
   "source": []
  },
  {
   "attachments": {},
   "cell_type": "markdown",
   "metadata": {},
   "source": [
    "Continuous Variables"
   ]
  },
  {
   "cell_type": "code",
   "execution_count": 24,
   "metadata": {},
   "outputs": [
    {
     "data": {
      "image/png": "[encoded data removed]",
      "text/plain": [
       "<Figure size 432x288 with 1 Axes>"
      ]
     },
     "metadata": {
      "needs_background": "light"
     },
     "output_type": "display_data"
    },
    {
     "data": {
      "image/png": "[encoded data removed]",
      "text/plain": [
       "<Figure size 432x288 with 1 Axes>"
      ]
     },
     "metadata": {
      "needs_background": "light"
     },
     "output_type": "display_data"
    },
    {
     "data": {
      "image/png": "[encoded data removed]",
      "text/plain": [
       "<Figure size 432x288 with 1 Axes>"
      ]
     },
     "metadata": {
      "needs_background": "light"
     },
     "output_type": "display_data"
    },
    {
     "data": {
      "image/png": "[encoded data removed]",
      "text/plain": [
       "<Figure size 432x288 with 1 Axes>"
      ]
     },
     "metadata": {
      "needs_background": "light"
     },
     "output_type": "display_data"
    }
   ],
   "source": [
    "# Histogram Plot of the schaetzwert_bp_sys\n",
    "min_value = data_df['schaetzwert_bp_sys'].min()\n",
    "max_value = data_df['schaetzwert_bp_sys'].max()\n",
    "bins = np.linspace(min_value,max_value,20)\n",
    "\n",
    "result = plt.hist(data_df['schaetzwert_bp_sys'], bins = bins, color='c', edgecolor='k', alpha=0.65)\n",
    "plt.axvline(data_df['schaetzwert_bp_sys'].mean(), color='k', linestyle='dashed', linewidth=1)\n",
    "plt.axvline(data_df['schaetzwert_bp_sys'].median(), color='k', linestyle='dashed', linewidth=2)\n",
    "\n",
    "min_ylim, max_ylim = plt.ylim()\n",
    "plt.text(data_df['schaetzwert_bp_sys'].mean()*1.1, max_ylim*0.9, 'Mean: {:.2f}'.format(data_df['messwert_bp_sys'].mean()))\n",
    "plt.text(data_df['schaetzwert_bp_sys'].median()*1.2, max_ylim*0.8, 'Median: {:.2f}'.format(data_df['messwert_bp_sys'].median()))\n",
    "plt.show()\n",
    "\n",
    "# Histogram Plot of the schaetzwert_by_dia\n",
    "min_value = data_df['schaetzwert_by_dia'].min()\n",
    "max_value = data_df['schaetzwert_by_dia'].max()\n",
    "bins = np.linspace(min_value,max_value,20)\n",
    "\n",
    "result = plt.hist(data_df['schaetzwert_by_dia'], bins = bins, color='c', edgecolor='k', alpha=0.65)\n",
    "plt.axvline(data_df['schaetzwert_by_dia'].mean(), color='k', linestyle='dashed', linewidth=1)\n",
    "plt.axvline(data_df['schaetzwert_by_dia'].median(), color='k', linestyle='dashed', linewidth=2)\n",
    "\n",
    "min_ylim, max_ylim = plt.ylim()\n",
    "plt.text(data_df['schaetzwert_by_dia'].mean()*1.1, max_ylim*0.9, 'Mean: {:.2f}'.format(data_df['schaetzwert_by_dia'].mean()))\n",
    "plt.text(data_df['schaetzwert_by_dia'].median()*1.2, max_ylim*0.8, 'Median: {:.2f}'.format(data_df['schaetzwert_by_dia'].median()))\n",
    "plt.show()\n",
    "\n",
    "# Histogram Plot of the messwert_bp_sys\n",
    "min_value = data_df['messwert_bp_sys'].min()\n",
    "max_value = data_df['messwert_bp_sys'].max()\n",
    "bins = np.linspace(min_value,max_value,20)\n",
    "\n",
    "result = plt.hist(data_df['messwert_bp_sys'], bins = bins, color='c', edgecolor='k', alpha=0.65)\n",
    "plt.axvline(data_df['messwert_bp_sys'].mean(), color='k', linestyle='dashed', linewidth=1)\n",
    "plt.axvline(data_df['messwert_bp_sys'].median(), color='k', linestyle='dashed', linewidth=2)\n",
    "\n",
    "min_ylim, max_ylim = plt.ylim()\n",
    "plt.text(data_df['messwert_bp_sys'].mean()*1.1, max_ylim*0.9, 'Mean: {:.2f}'.format(data_df['messwert_bp_sys'].mean()))\n",
    "plt.text(data_df['messwert_bp_sys'].median()*1.2, max_ylim*0.8, 'Median: {:.2f}'.format(data_df['messwert_bp_sys'].median()))\n",
    "plt.show()\n",
    "\n",
    "# Histogram Plot of the messwert_bp_dia\n",
    "min_value = data_df['messwert_bp_dia'].min()\n",
    "max_value = data_df['messwert_bp_dia'].max()\n",
    "bins = np.linspace(min_value,max_value,20)\n",
    "\n",
    "result = plt.hist(data_df['messwert_bp_dia'], bins = bins, color='c', edgecolor='k', alpha=0.65)\n",
    "plt.axvline(data_df['messwert_bp_dia'].mean(), color='k', linestyle='dashed', linewidth=1)\n",
    "plt.axvline(data_df['messwert_bp_dia'].median(), color='k', linestyle='dashed', linewidth=2)\n",
    "\n",
    "min_ylim, max_ylim = plt.ylim()\n",
    "plt.text(data_df['messwert_bp_dia'].mean()*1.1, max_ylim*0.9, 'Mean: {:.2f}'.format(data_df['messwert_bp_dia'].mean()))\n",
    "plt.text(data_df['messwert_bp_dia'].median()*1.2, max_ylim*0.8, 'Median: {:.2f}'.format(data_df['messwert_bp_dia'].median()))\n",
    "plt.show()"
   ]
  },
  {
   "cell_type": "code",
   "execution_count": 30,
   "metadata": {},
   "outputs": [
    {
     "data": {
      "image/png": "[encoded data removed]",
      "text/plain": [
       "<Figure size 432x288 with 1 Axes>"
      ]
     },
     "metadata": {
      "needs_background": "light"
     },
     "output_type": "display_data"
    }
   ],
   "source": [
    "# Histogram Plot of the schaetzwert_bp_sys vs schaetzwert_by_dia Alternatively\n",
    "min_value = data_df['schaetzwert_bp_sys'].min()\n",
    "max_value = data_df['schaetzwert_bp_sys'].max()\n",
    "bins = np.linspace(min_value,max_value,20)\n",
    "\n",
    "result = plt.hist([data_df['schaetzwert_bp_sys'],data_df['schaetzwert_by_dia']], bins = bins, color=['c','red'], edgecolor='k', alpha=0.65)\n",
    "plt.axvline(data_df['schaetzwert_bp_sys'].mean(), color='k', linestyle='dashed', linewidth=1)\n",
    "plt.axvline(data_df['schaetzwert_bp_sys'].median(), color='k', linestyle='dashed', linewidth=2)\n",
    "\n",
    "min_ylim, max_ylim = plt.ylim()\n",
    "plt.text(data_df['schaetzwert_bp_sys'].mean()*1.1, max_ylim*0.9, 'Mean: {:.2f}'.format(data_df['messwert_bp_sys'].mean()))\n",
    "plt.text(data_df['schaetzwert_bp_sys'].median()*1.2, max_ylim*0.8, 'Median: {:.2f}'.format(data_df['messwert_bp_sys'].median()))\n",
    "\n",
    "plt.axvline(data_df['schaetzwert_by_dia'].mean(), color='k', linestyle='dashed', linewidth=1)\n",
    "plt.axvline(data_df['schaetzwert_by_dia'].median(), color='k', linestyle='dashed', linewidth=2)\n",
    "\n",
    "min_ylim, max_ylim = plt.ylim()\n",
    "plt.text(data_df['schaetzwert_by_dia'].mean()*1.1, max_ylim*0.9, 'Mean: {:.2f}'.format(data_df['schaetzwert_by_dia'].mean()))\n",
    "plt.text(data_df['schaetzwert_by_dia'].median()*1.2, max_ylim*0.8, 'Median: {:.2f}'.format(data_df['schaetzwert_by_dia'].median()))\n",
    "\n",
    "plt.show()"
   ]
  },
  {
   "attachments": {},
   "cell_type": "markdown",
   "metadata": {},
   "source": [
    "Discrete Variables"
   ]
  },
  {
   "cell_type": "code",
   "execution_count": null,
   "metadata": {},
   "outputs": [],
   "source": [
    "\n",
    "\n",
    "\n"
   ]
  },
  {
   "attachments": {},
   "cell_type": "markdown",
   "metadata": {},
   "source": [
    "Correlation"
   ]
  },
  {
   "cell_type": "code",
   "execution_count": null,
   "metadata": {},
   "outputs": [],
   "source": []
  }
 ],
 "metadata": {
  "kernelspec": {
   "display_name": "Python 3",
   "language": "python",
   "name": "python3"
  },
  "language_info": {
   "codemirror_mode": {
    "name": "ipython",
    "version": 3
   },
   "file_extension": ".py",
   "mimetype": "text/x-python",
   "name": "python",
   "nbconvert_exporter": "python",
   "pygments_lexer": "ipython3",
   "version": "3.8.5"
  },
  "orig_nbformat": 4
 },
 "nbformat": 4,
 "nbformat_minor": 2
}
